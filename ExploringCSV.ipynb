{
 "cells": [
  {
   "cell_type": "markdown",
   "id": "786bdc68",
   "metadata": {},
   "source": [
    "# Exploring CSV files\n",
    "\n",
    "Created in February 2024 for the University of Strathclyde by Gustavo Candela"
   ]
  },
  {
   "cell_type": "markdown",
   "id": "b72b84d7-f063-47dc-a2a3-ba3b7e5c4cbf",
   "metadata": {},
   "source": [
    "### About the Moving Image Archive Dataset\n",
    "\n",
    "This dataset represents the descriptive metadata from the [Hutton Drawings](https://data.nls.uk/data/metadata-collections/hutton-drawings/).\n",
    "This dataset represents the complete descriptive metadata for the Hutton drawings, a digitised collection of drawings, maps, plans and prints relating mainly to Scottish churches and other ecclesiastical buildings, castles or other dwellings.\n",
    "The original drawings date from 1781-1792 and 1811-1820 and are arranged by county. Some of the drawings are by George Henry Hutton, a professional soldier and amateur antiquary, who compiled the collection. \n",
    "\n",
    "- Data format: metadata available as MARCXML and Dublin Core\n",
    "- Data source: https://data.nls.uk/data/metadata-collections/hutton-drawings/"
   ]
  },
  {
   "cell_type": "markdown",
   "id": "8f1ff38b",
   "metadata": {},
   "source": [
    "### Table of contents\n",
    "\n",
    "- [Preparation](#Preparation)\n",
    "- [Loading the CSV data into pandas](#Loading-the-CSV-data-into-pandas)\n",
    "- [Wikidata enrichment](#Let's-enrich-the-data-with-Wikidata)"
   ]
  },
  {
   "cell_type": "markdown",
   "id": "585a839f",
   "metadata": {},
   "source": [
    "### Preparation\n",
    "\n",
    "Import the libraries required to explore the summary of each record included in the dataset to present a word cloud."
   ]
  },
  {
   "cell_type": "code",
   "execution_count": 41,
   "id": "d07b0bb7",
   "metadata": {},
   "outputs": [],
   "source": [
    "import pandas as pd"
   ]
  },
  {
   "cell_type": "markdown",
   "id": "1754f897",
   "metadata": {},
   "source": [
    "### Loading the CSV data into pandas"
   ]
  },
  {
   "cell_type": "code",
   "execution_count": 42,
   "id": "a8307d8d",
   "metadata": {
    "scrolled": true
   },
   "outputs": [],
   "source": [
    "path_csv = \"output/Hutton-Drawings.csv\"\n",
    "df = pd.read_csv (path_csv, sep=',')"
   ]
  },
  {
   "cell_type": "markdown",
   "id": "8a1a33ec",
   "metadata": {},
   "source": [
    "#### Let's see the structure of the dataset"
   ]
  },
  {
   "cell_type": "code",
   "execution_count": 43,
   "id": "95f12c96",
   "metadata": {},
   "outputs": [
    {
     "name": "stdout",
     "output_type": "stream",
     "text": [
      "['title', 'author', 'date', 'subjects', 'geographic_names']\n"
     ]
    }
   ],
   "source": [
    "## structure of the data\n",
    "print(df.columns.tolist())"
   ]
  },
  {
   "cell_type": "markdown",
   "id": "c15319ec",
   "metadata": {},
   "source": [
    "#### Let's explore the content"
   ]
  },
  {
   "cell_type": "code",
   "execution_count": 44,
   "id": "bb75d9cc",
   "metadata": {},
   "outputs": [
    {
     "name": "stdout",
     "output_type": "stream",
     "text": [
      "title               537\n",
      "author              537\n",
      "date                537\n",
      "subjects            537\n",
      "geographic_names    532\n",
      "dtype: int64\n"
     ]
    }
   ],
   "source": [
    "# number of records\n",
    "print(df.count())"
   ]
  },
  {
   "cell_type": "code",
   "execution_count": 45,
   "id": "9b772380",
   "metadata": {},
   "outputs": [
    {
     "name": "stdout",
     "output_type": "stream",
     "text": [
      "0    Hutton, George Henry, -1827 -- Hutton, George ...\n",
      "1    Forbes, John, of Boynlie -- Hutton, George Hen...\n",
      "2    Hutton, George Henry, -1827 -- Hutton, George ...\n",
      "3    Hutton, George Henry, -1827 -- Hutton, George ...\n",
      "4    Buchan, David Stewart Erskine, Earl of, 1742-1...\n",
      "5    Hutton, George Henry, -1827 -- Hutton, George ...\n",
      "6    Hutton, George Henry, -1827 -- Hutton, George ...\n",
      "7    Hutton, George Henry, -1827 -- Hutton, George ...\n",
      "8    Fernie, John, active 1812 -- Morton, Alexander...\n",
      "9    Hutton, George Henry, -1827 -- Hutton, George ...\n",
      "Name: author, dtype: object\n"
     ]
    }
   ],
   "source": [
    "print(df[\"author\"].head(10))"
   ]
  },
  {
   "cell_type": "markdown",
   "id": "99520e64",
   "metadata": {},
   "source": [
    "The information stored in the metadata field place of publication is the same string in all the records."
   ]
  },
  {
   "cell_type": "code",
   "execution_count": 46,
   "id": "8d070cf7-c232-47e6-89ba-7de4ca8b05ef",
   "metadata": {},
   "outputs": [
    {
     "name": "stdout",
     "output_type": "stream",
     "text": [
      "['Europe, United Kingdom, Scotland, Aberdeen (unitary authority)'\n",
      " 'Europe, United Kingdom, Scotland, Fife, Inchcolm (island) -- Europe, United Kingdom, Scotland, Fife (unitary authority)'\n",
      " 'Europe, United Kingdom, Scotland, Scottish Borders, Berwick (general region)'\n",
      " 'Europe, United Kingdom, Scotland, Scottish Borders, Dryburgh Abbey (ruins) -- Europe, United Kingdom, Scotland, Scottish Borders, Berwick (general region)'\n",
      " 'Europe, United Kingdom, Scotland, Aberdeen, Aberdeen (inhabited place) -- Europe, United Kingdom, Scotland, Aberdeen (unitary authority)'\n",
      " 'Europe, United Kingdom, Scotland, Fife (unitary authority)'\n",
      " 'Europe, United Kingdom, Scotland, Fife, Culross (inhabited place) -- Europe, United Kingdom, Scotland, Fife (unitary authority)'\n",
      " 'Europe, United Kingdom, Scotland, Fife, Saint Andrews (inhabited place) -- Europe, United Kingdom, Scotland, Fife (unitary authority)'\n",
      " 'Europe, United Kingdom, Scotland, Fife (unitary authority) -- Europe, United Kingdom, Scotland, Fife, Inchcolm (island) -- Europe, United Kingdom, Scotland, Firth of Forth (bay)'\n",
      " 'Europe, United Kingdom, Scotland, Fife (unitary authority) -- Europe, United Kingdom, Scotland, Perth and Kinross, Leven, Loch (lake)'\n",
      " 'Europe, United Kingdom, Scotland, Perth and Kinross, Leven, Loch (lake) -- Europe, United Kingdom, Scotland, Fife (unitary authority)'\n",
      " 'Europe, United Kingdom, Scotland, Shetland (unitary authority)'\n",
      " 'Europe, United Kingdom, Scotland, Dumfries and Galloway, Wigtown (general region)'\n",
      " nan\n",
      " 'Europe, United Kingdom, Scotland, Fife (unitary authority) -- Europe, United Kingdom, Scotland, Forth (river)'\n",
      " 'Europe, United Kingdom, England, Yorkshire (general region)'\n",
      " 'Europe, United Kingdom, Scotland, Fife, Saint Andrews (inhabited place) -- Europe, United Kingdom, Scotland, Firth of Forth (bay) -- Europe, United Kingdom, Scotland, Fife (unitary authority)'\n",
      " 'Europe, United Kingdom, Scotland, Scottish Borders, Jedburgh Abbey (ruins) -- Europe, United Kingdom, Scotland, Scottish Borders, Roxburgh (general region)'\n",
      " 'Europe, United Kingdom, Scotland, Highland, Sutherland (general region)'\n",
      " 'Europe, United Kingdom, Scotland, Ross and Cromarty (general region)'\n",
      " 'Europe, United Kingdom, Scotland, Dumfries and Galloway, Portpatrick (inhabited place) -- Europe, United Kingdom, Scotland, Dumfries and Galloway, Wigtown (general region)'\n",
      " 'Europe, United Kingdom, Scotland, Stirling (unitary authority)'\n",
      " 'Europe, United Kingdom, Scotland, Scottish Borders, Melrose Abbey (ruins) -- Europe, United Kingdom, Scotland, Scottish Borders, Roxburgh (general region)'\n",
      " 'Europe, United Kingdom, Scotland, Highland, Fortrose (inhabited place) -- Europe, United Kingdom, Scotland, Ross and Cromarty (general region)'\n",
      " 'Europe, United Kingdom, Scotland, Scottish Borders, Roxburgh (general region)'\n",
      " 'Europe, United Kingdom, Scotland, Scottish Borders, Roxburgh (general region) -- Europe, United Kingdom, Scotland, Scottish Borders, Kelso (inhabited place) -- Europe, United Kingdom, Great Britain, Tweed (river)'\n",
      " 'Europe, United Kingdom, Scotland, Dumfries and Galloway, Glenluce Abbey (ruins) -- Europe, United Kingdom, Scotland, Dumfries and Galloway, Wigtown (general region) -- Europe, United Kingdom, Scotland, Luce, Water of (river)'\n",
      " 'Europe, United Kingdom, Scotland, Ross and Cromarty (general region) -- Europe, United Kingdom, Scotland, Highland, Dornoch Firth (estuary)'\n",
      " 'Europe, United Kingdom, Scotland, Stirling (unitary authority) -- Europe, United Kingdom, Scotland, Stirling, Cambuskenneth Abbey (ruins)'\n",
      " 'Europe, United Kingdom, Scotland, Dumfries and Galloway, Whithorn (inhabited place) -- Europe, United Kingdom, Scotland, Dumfries and Galloway, Wigtown (general region)'\n",
      " 'Europe, United Kingdom, Scotland, Perth and Kinross (unitary authority) -- Europe, United Kingdom, Scotland, Stirling, Menteith, Lake of (lake)'\n",
      " 'Europe, United Kingdom, Scotland, Perth and Kinross (unitary authority)'\n",
      " 'Europe, United Kingdom, Scotland, Midlothian (unitary authority)'\n",
      " 'Europe, United Kingdom, Scotland, Orkney, Mainland island, Kirkwall (inhabited place) -- Europe, United Kingdom, Scotland, Orkney (unitary authority)'\n",
      " 'Europe, United Kingdom, Scotland, South Lanarkshire, Lanark (general region)'\n",
      " 'Europe, United Kingdom, Scotland, Midlothian (unitary authority) -- Europe, United Kingdom, Scotland, Edinburgh, Restalrig (inhabited place)'\n",
      " 'Europe, United Kingdom, Scotland, West Lothian (unitary authority)'\n",
      " 'Europe, United Kingdom, Scotland, Perth and Kinross, Perth (inhabited place) -- Europe, United Kingdom, Scotland, Perth and Kinross (unitary authority)'\n",
      " 'Europe, United Kingdom, Scotland, Perth and Kinross (unitary authority) -- Europe, United Kingdom, Scotland, Perth and Kinross, Bruar, Falls of the (waterfall)'\n",
      " 'Europe, United Kingdom, Scotland, Edinburgh, Edinburgh (inhabited place) -- Europe, United Kingdom, Scotland, Midlothian (unitary authority)'\n",
      " 'Europe, United Kingdom, Scotland, Orkney, Mainland island, Saint Magnus Cathedral (cathedral) -- Europe, United Kingdom, Scotland, Orkney (unitary authority)'\n",
      " 'Europe, United Kingdom, Scotland, Perth and Kinross (unitary authority) -- Europe, United Kingdom, Scotland, Tay (river)'\n",
      " 'Europe, United Kingdom, Scotland, Scottish Borders, Peebles (general region)'\n",
      " \"Europe, United Kingdom, Scotland, Midlothian (unitary authority) -- Europe, United Kingdom, Scotland, Edinburgh, Edinburgh, Holyrood Palace (palace) -- Europe, United Kingdom, Scotland, Edinburgh, Arthur's Seat (hill)\"\n",
      " 'Europe, United Kingdom, Scotland, Perth and Kinross (unitary authority) -- Europe, United Kingdom, Scotland, Perth and Kinross, Scone Palace (estate)'\n",
      " 'Europe, United Kingdom, Scotland, Midlothian (unitary authority) -- Europe, United Kingdom, Scotland, Edinburgh, Edinburgh, Edinburgh Castle (castle)'\n",
      " \"Europe, United Kingdom, Scotland, Edinburgh, Edinburgh (inhabited place) -- Europe, United Kingdom, Scotland, Midlothian (unitary authority) -- Europe, United Kingdom, Scotland, Edinburgh, Arthur's Seat (hill)\"\n",
      " 'Europe, United Kingdom, Scotland, Renfrew (general region)'\n",
      " 'Europe, United Kingdom, Scotland, Edinburgh, Leith (inhabited place) -- Europe, United Kingdom, Scotland, Midlothian (unitary authority)'\n",
      " 'Europe, United Kingdom, Scotland, Orkney (unitary authority)'\n",
      " 'Europe, United Kingdom, Scotland, Perth and Kinross, Lyon, Glen (valley) Lyon, Glen (valley) -- Europe, United Kingdom, Scotland, Perth and Kinross (unitary authority)'\n",
      " 'Europe, United Kingdom, Scotland, Stirling, Doune Castle (ruins) -- Europe, United Kingdom, Scotland, Perth and Kinross (unitary authority)'\n",
      " 'Europe, United Kingdom, Scotland, Firth of Forth (bay) -- Europe, United Kingdom, Scotland, East Lothian, North Berwick Law (hill) -- Europe, United Kingdom, Scotland, Midlothian (unitary authority) -- Europe, United Kingdom, Scotland, East Lothian, Bass Rock (rock) -- Europe, United Kingdom, Scotland, Edinburgh, Leith (inhabited place)'\n",
      " 'Europe, United Kingdom, Scotland, Scottish Borders, Peebles (inhabited place) -- Europe, United Kingdom, Scotland, Scottish Borders, Peebles (general region)'\n",
      " 'Europe, United Kingdom, Scotland, Perth and Kinross (unitary authority) -- Europe, United Kingdom, Scotland, Perth and Kinross, Tay, Loch (lake)'\n",
      " 'Europe, United Kingdom, Scotland, Edinburgh, Edinburgh (inhabited place) -- Europe, United Kingdom, Scotland, Midlothian (unitary authority) -- Europe, United Kingdom, Scotland, Edinburgh, Portobello (inhabited place) -- Europe, United Kingdom, Scotland, Edinburgh, Leith (inhabited place)'\n",
      " 'Europe, United Kingdom, Scotland, Perth and Kinross (unitary authority) -- Europe, United Kingdom, Scotland, Perth and Kinross, Perth (inhabited place)'\n",
      " 'Europe, United Kingdom, Scotland, Perth and Kinross, Perth (inhabited place) -- Europe, United Kingdom, Scotland, Perth and Kinross (unitary authority) -- Europe, United Kingdom, Scotland, Tay (river)'\n",
      " 'Europe, United Kingdom, Scotland, Perth and Kinross (unitary authority) -- Europe, United Kingdom, Scotland, Perth and Kinross (unitary authority)'\n",
      " 'Europe, United Kingdom, Scotland, North Ayrshire, Kilwinning (inhabited place) -- Europe, United Kingdom, Scotland, South Ayrshire, Ayr (general region)'\n",
      " 'Europe, United Kingdom, Scotland, Aberdeenshire, Banff (inhabited place) -- Europe, United Kingdom, Scotland, Aberdeenshire, Banff (general region)'\n",
      " 'Europe, United Kingdom, Scotland, Argyll and Bute, Oronsay (island) -- Europe, United Kingdom, Scotland, Argyll and Bute, Argyll (general region)'\n",
      " 'Europe, United Kingdom, Scotland, East Lothian (unitary authority)'\n",
      " 'Europe, United Kingdom, Scotland, Dumfries and Galloway, Dumfries (inhabited place) -- Europe, United Kingdom, Scotland, Dumfries and Galloway, Dumfries (former administrative division)'\n",
      " 'Europe, United Kingdom, Scotland, Moray (unitary authority)'\n",
      " 'Europe, United Kingdom, Scotland, Argyll and Bute, Argyll (general region)'\n",
      " 'Europe, United Kingdom, Scotland, Argyll and Bute, Iona island, Iona, Abbey of (historic site) -- Europe, United Kingdom, Scotland, Argyll and Bute, Argyll (general region)'\n",
      " 'Europe, United Kingdom, Scotland, Highland, Beauly (inhabited place) -- Europe, United Kingdom, Scotland, Inverness (general region) -- Europe, United Kingdom, Scotland, Highland, Beauly (river)'\n",
      " 'Europe, United Kingdom, Scotland, Angus (unitary authority)'\n",
      " 'Europe, United Kingdom, Scotland, Inverness (general region)'\n",
      " 'Europe, United Kingdom, Scotland, East Lothian (unitary authority) -- Europe, United Kingdom, Scotland, Firth of Forth (bay)'\n",
      " 'Europe, United Kingdom, Scotland, Argyll and Bute, Argyll (general region) -- Europe, United Kingdom, Scotland, Argyll and Bute, Argyll (general region)'\n",
      " 'Europe, United Kingdom, Scotland, Aberdeenshire, Kincardine (general region) -- Europe, United Kingdom, Scotland, Aberdeenshire, Cowie Harbour (bay)'\n",
      " 'Europe, United Kingdom, Scotland, Moray, Elgin (inhabited place) -- Europe, United Kingdom, Scotland, Moray (unitary authority)'\n",
      " 'Europe, United Kingdom, Scotland, South Ayrshire, Ayr (general region)'\n",
      " 'Europe, United Kingdom, Scotland, Argyll and Bute, Bute, Island of, Rothesay (inhabited place) -- Europe, United Kingdom, Scotland, Argyll and Bute, Bute (general region)'\n",
      " 'Europe, United Kingdom, Scotland, Dumfries and Galloway, Dumfries (former administrative division)'\n",
      " 'Europe, United Kingdom, Scotland, West Dunbartonshire, Dunbarton (general region)'\n",
      " 'Europe, United Kingdom, Scotland, Dumfries and Galloway, Kirkcudbright (general region) -- Europe, United Kingdom, Scotland, Dumfries and Galloway, Kirkcudbright (general region)'\n",
      " 'Europe, United Kingdom, Scotland, Argyll and Bute, Saddell (inhabited place) -- Europe, United Kingdom, Scotland, Argyll and Bute, Argyll (general region)'\n",
      " 'Europe, United Kingdom, Scotland, Aberdeenshire, Monymusk (inhabited place) -- Europe, United Kingdom, Scotland, Aberdeen (unitary authority)'\n",
      " 'Europe, United Kingdom, Scotland, Argyll and Bute, Argyll (general region) -- Europe, United Kingdom, Scotland, Argyll and Bute, Argyll (general region) -- Europe, United Kingdom, Scotland, Argyll and Bute, Holy Loch (bay)'\n",
      " 'Europe, United Kingdom, Scotland, Dumfries and Galloway, Kirkcudbright (general region)'\n",
      " 'Europe, United Kingdom, Scotland, Eilean Siar, Lewis, Isle of, Rodel (inhabited place) -- Europe, United Kingdom, Scotland, Inverness (general region)'\n",
      " 'Europe, United Kingdom, Scotland, Angus, Guthrie (inhabited place) -- Europe, United Kingdom, Scotland, Angus (unitary authority)'\n",
      " 'Europe, United Kingdom, Scotland, Dumfries and Galloway, Sweetheart Abbey (ruins) -- Europe, United Kingdom, Scotland, Dumfries and Galloway, Kirkcudbright (general region)'\n",
      " 'Europe, United Kingdom, Scotland, East Lothian (unitary authority) -- Europe, United Kingdom, Scotland, East Lothian, Tyne (river)'\n",
      " 'Europe, United Kingdom, Scotland, East Lothian, Haddington (inhabited place) -- Europe, United Kingdom, Scotland, East Lothian (unitary authority)'\n",
      " 'Europe, United Kingdom, Scotland, Inverness (general region) -- Europe, United Kingdom, Scotland, Eilean Siar, Lewis, Isle of, Rodel (inhabited place)'\n",
      " 'Europe, United Kingdom, Scotland, South Lanarkshire, Lanark (general region) -- Europe, United Kingdom, Scotland, North Ayrshire, Clyde, River (stream)'\n",
      " 'Europe, United Kingdom, Scotland, Aberdeenshire, Banff (general region)'\n",
      " 'Europe, United Kingdom, Scotland, East Lothian (unitary authority) -- Europe, United Kingdom, Scotland, East Lothian, Bass Rock (rock) -- Europe, United Kingdom, Scotland, East Lothian, North Berwick Law (hill) -- Europe, United Kingdom, Scotland, East Lothian, Tantallon Castle (ruins)'\n",
      " 'Europe, United Kingdom, Scotland, Argyll and Bute, Iona (island) -- Europe, United Kingdom, Scotland, Argyll and Bute, Argyll (general region)'\n",
      " 'Europe, United Kingdom, Scotland, Moray, Cullen (inhabited place) -- Europe, United Kingdom, Scotland, Aberdeenshire, Banff (general region)'\n",
      " 'Europe, United Kingdom, Scotland, Argyll and Bute, Lismore Island (island) -- Europe, United Kingdom, Scotland, Argyll and Bute, Argyll (general region)'\n",
      " 'Europe, United Kingdom, Scotland, East Lothian, Port Seton (inhabited place) -- Europe, United Kingdom, Scotland, East Lothian (unitary authority) -- Europe, United Kingdom, Scotland, Firth of Forth (bay) -- Europe, United Kingdom, Scotland, East Lothian, Seton House (building)'\n",
      " 'Europe, United Kingdom, Scotland, East Lothian (unitary authority) -- Europe, United Kingdom, Scotland, East Lothian (unitary authority)'\n",
      " 'Europe, United Kingdom, Scotland, East Lothian, North Berwick (inhabited place) -- Europe, United Kingdom, Scotland, East Lothian (unitary authority)'\n",
      " 'Europe, United Kingdom, Scotland, East Lothian (unitary authority) -- Europe, United Kingdom, Scotland, East Lothian, North Berwick Law (hill)'\n",
      " 'Europe, United Kingdom, Scotland, East Lothian (unitary authority) -- Europe, United Kingdom, Scotland, East Lothian, Bass Rock (rock)'\n",
      " 'Europe, United Kingdom, Scotland, Firth of Forth (bay) -- Europe, United Kingdom, Scotland, Fife, May, Isle of (island) -- Europe, United Kingdom, Scotland, East Lothian, Tantallon Castle (ruins) -- Europe, United Kingdom, Scotland, East Lothian (unitary authority)'\n",
      " 'Europe, United Kingdom, Scotland, Scottish Borders, Lauder (inhabited place) -- Europe, United Kingdom, Scotland, Scottish Borders, Berwick (general region)'\n",
      " 'Europe, United Kingdom, Scotland, South Ayrshire, Ayr (general region) -- Europe, United Kingdom, Scotland, Ayr (river) -- Europe, United Kingdom, Scotland, South Ayrshire, Ayr (inhabited place)'\n",
      " 'Europe, United Kingdom, Scotland, Highland, Caithness (general region)'\n",
      " 'Europe, United Kingdom, Scotland, Highland, Beauly (inhabited place) -- Europe, United Kingdom, Scotland, Inverness (general region)'\n",
      " 'Europe, United Kingdom, Scotland, Angus (unitary authority) -- Europe, United Kingdom, Scotland, Angus (unitary authority)'\n",
      " 'Europe, United Kingdom, Scotland, Argyll and Bute, Kintyre (peninsula) -- Europe, United Kingdom, Scotland, Argyll and Bute, Argyll (general region)'\n",
      " 'Europe, United Kingdom, Scotland, Dumfries and Galloway, Kirkcudbright (inhabited place) -- Europe, United Kingdom, Scotland, Dumfries and Galloway, Kirkcudbright (general region)']\n"
     ]
    }
   ],
   "source": [
    "print(df[\"geographic_names\"].unique())"
   ]
  },
  {
   "cell_type": "code",
   "execution_count": 47,
   "id": "df0a6d5f-8b8b-44cd-b680-7dfa37c78c93",
   "metadata": {},
   "outputs": [
    {
     "name": "stdout",
     "output_type": "stream",
     "text": [
      "Total unique geographic_names:101\n",
      "Europe, United Kingdom, England, Yorkshire (general region)\n",
      "Europe, United Kingdom, Great Britain, Tweed (river)\n",
      "Europe, United Kingdom, Scotland, Aberdeen (unitary authority)\n",
      "Europe, United Kingdom, Scotland, Aberdeen, Aberdeen (inhabited place)\n",
      "Europe, United Kingdom, Scotland, Aberdeenshire, Banff (general region)\n",
      "Europe, United Kingdom, Scotland, Aberdeenshire, Banff (inhabited place)\n",
      "Europe, United Kingdom, Scotland, Aberdeenshire, Cowie Harbour (bay)\n",
      "Europe, United Kingdom, Scotland, Aberdeenshire, Kincardine (general region)\n",
      "Europe, United Kingdom, Scotland, Aberdeenshire, Monymusk (inhabited place)\n",
      "Europe, United Kingdom, Scotland, Angus (unitary authority)\n",
      "Europe, United Kingdom, Scotland, Angus, Guthrie (inhabited place)\n",
      "Europe, United Kingdom, Scotland, Argyll and Bute, Argyll (general region)\n",
      "Europe, United Kingdom, Scotland, Argyll and Bute, Bute (general region)\n",
      "Europe, United Kingdom, Scotland, Argyll and Bute, Bute, Island of, Rothesay (inhabited place)\n",
      "Europe, United Kingdom, Scotland, Argyll and Bute, Holy Loch (bay)\n",
      "Europe, United Kingdom, Scotland, Argyll and Bute, Iona (island)\n",
      "Europe, United Kingdom, Scotland, Argyll and Bute, Iona island, Iona, Abbey of (historic site)\n",
      "Europe, United Kingdom, Scotland, Argyll and Bute, Kintyre (peninsula)\n",
      "Europe, United Kingdom, Scotland, Argyll and Bute, Lismore Island (island)\n",
      "Europe, United Kingdom, Scotland, Argyll and Bute, Oronsay (island)\n",
      "Europe, United Kingdom, Scotland, Argyll and Bute, Saddell (inhabited place)\n",
      "Europe, United Kingdom, Scotland, Ayr (river)\n",
      "Europe, United Kingdom, Scotland, Dumfries and Galloway, Dumfries (former administrative division)\n",
      "Europe, United Kingdom, Scotland, Dumfries and Galloway, Dumfries (inhabited place)\n",
      "Europe, United Kingdom, Scotland, Dumfries and Galloway, Glenluce Abbey (ruins)\n",
      "Europe, United Kingdom, Scotland, Dumfries and Galloway, Kirkcudbright (general region)\n",
      "Europe, United Kingdom, Scotland, Dumfries and Galloway, Kirkcudbright (inhabited place)\n",
      "Europe, United Kingdom, Scotland, Dumfries and Galloway, Portpatrick (inhabited place)\n",
      "Europe, United Kingdom, Scotland, Dumfries and Galloway, Sweetheart Abbey (ruins)\n",
      "Europe, United Kingdom, Scotland, Dumfries and Galloway, Whithorn (inhabited place)\n",
      "Europe, United Kingdom, Scotland, Dumfries and Galloway, Wigtown (general region)\n",
      "Europe, United Kingdom, Scotland, East Lothian (unitary authority)\n",
      "Europe, United Kingdom, Scotland, East Lothian, Bass Rock (rock)\n",
      "Europe, United Kingdom, Scotland, East Lothian, Haddington (inhabited place)\n",
      "Europe, United Kingdom, Scotland, East Lothian, North Berwick (inhabited place)\n",
      "Europe, United Kingdom, Scotland, East Lothian, North Berwick Law (hill)\n",
      "Europe, United Kingdom, Scotland, East Lothian, Port Seton (inhabited place)\n",
      "Europe, United Kingdom, Scotland, East Lothian, Seton House (building)\n",
      "Europe, United Kingdom, Scotland, East Lothian, Tantallon Castle (ruins)\n",
      "Europe, United Kingdom, Scotland, East Lothian, Tyne (river)\n",
      "Europe, United Kingdom, Scotland, Edinburgh, Arthur's Seat (hill)\n",
      "Europe, United Kingdom, Scotland, Edinburgh, Edinburgh (inhabited place)\n",
      "Europe, United Kingdom, Scotland, Edinburgh, Edinburgh, Edinburgh Castle (castle)\n",
      "Europe, United Kingdom, Scotland, Edinburgh, Edinburgh, Holyrood Palace (palace)\n",
      "Europe, United Kingdom, Scotland, Edinburgh, Leith (inhabited place)\n",
      "Europe, United Kingdom, Scotland, Edinburgh, Portobello (inhabited place)\n",
      "Europe, United Kingdom, Scotland, Edinburgh, Restalrig (inhabited place)\n",
      "Europe, United Kingdom, Scotland, Eilean Siar, Lewis, Isle of, Rodel (inhabited place)\n",
      "Europe, United Kingdom, Scotland, Fife (unitary authority)\n",
      "Europe, United Kingdom, Scotland, Fife, Culross (inhabited place)\n",
      "Europe, United Kingdom, Scotland, Fife, Inchcolm (island)\n",
      "Europe, United Kingdom, Scotland, Fife, May, Isle of (island)\n",
      "Europe, United Kingdom, Scotland, Fife, Saint Andrews (inhabited place)\n",
      "Europe, United Kingdom, Scotland, Firth of Forth (bay)\n",
      "Europe, United Kingdom, Scotland, Forth (river)\n",
      "Europe, United Kingdom, Scotland, Highland, Beauly (inhabited place)\n",
      "Europe, United Kingdom, Scotland, Highland, Beauly (river)\n",
      "Europe, United Kingdom, Scotland, Highland, Caithness (general region)\n",
      "Europe, United Kingdom, Scotland, Highland, Dornoch Firth (estuary)\n",
      "Europe, United Kingdom, Scotland, Highland, Fortrose (inhabited place)\n",
      "Europe, United Kingdom, Scotland, Highland, Sutherland (general region)\n",
      "Europe, United Kingdom, Scotland, Inverness (general region)\n",
      "Europe, United Kingdom, Scotland, Luce, Water of (river)\n",
      "Europe, United Kingdom, Scotland, Midlothian (unitary authority)\n",
      "Europe, United Kingdom, Scotland, Moray (unitary authority)\n",
      "Europe, United Kingdom, Scotland, Moray, Cullen (inhabited place)\n",
      "Europe, United Kingdom, Scotland, Moray, Elgin (inhabited place)\n",
      "Europe, United Kingdom, Scotland, North Ayrshire, Clyde, River (stream)\n",
      "Europe, United Kingdom, Scotland, North Ayrshire, Kilwinning (inhabited place)\n",
      "Europe, United Kingdom, Scotland, Orkney (unitary authority)\n",
      "Europe, United Kingdom, Scotland, Orkney, Mainland island, Kirkwall (inhabited place)\n",
      "Europe, United Kingdom, Scotland, Orkney, Mainland island, Saint Magnus Cathedral (cathedral)\n",
      "Europe, United Kingdom, Scotland, Perth and Kinross (unitary authority)\n",
      "Europe, United Kingdom, Scotland, Perth and Kinross, Bruar, Falls of the (waterfall)\n",
      "Europe, United Kingdom, Scotland, Perth and Kinross, Leven, Loch (lake)\n",
      "Europe, United Kingdom, Scotland, Perth and Kinross, Lyon, Glen (valley) Lyon, Glen (valley)\n",
      "Europe, United Kingdom, Scotland, Perth and Kinross, Perth (inhabited place)\n",
      "Europe, United Kingdom, Scotland, Perth and Kinross, Scone Palace (estate)\n",
      "Europe, United Kingdom, Scotland, Perth and Kinross, Tay, Loch (lake)\n",
      "Europe, United Kingdom, Scotland, Renfrew (general region)\n",
      "Europe, United Kingdom, Scotland, Ross and Cromarty (general region)\n",
      "Europe, United Kingdom, Scotland, Scottish Borders, Berwick (general region)\n",
      "Europe, United Kingdom, Scotland, Scottish Borders, Dryburgh Abbey (ruins)\n",
      "Europe, United Kingdom, Scotland, Scottish Borders, Jedburgh Abbey (ruins)\n",
      "Europe, United Kingdom, Scotland, Scottish Borders, Kelso (inhabited place)\n",
      "Europe, United Kingdom, Scotland, Scottish Borders, Lauder (inhabited place)\n",
      "Europe, United Kingdom, Scotland, Scottish Borders, Melrose Abbey (ruins)\n",
      "Europe, United Kingdom, Scotland, Scottish Borders, Peebles (general region)\n",
      "Europe, United Kingdom, Scotland, Scottish Borders, Peebles (inhabited place)\n",
      "Europe, United Kingdom, Scotland, Scottish Borders, Roxburgh (general region)\n",
      "Europe, United Kingdom, Scotland, Shetland (unitary authority)\n",
      "Europe, United Kingdom, Scotland, South Ayrshire, Ayr (general region)\n",
      "Europe, United Kingdom, Scotland, South Ayrshire, Ayr (inhabited place)\n",
      "Europe, United Kingdom, Scotland, South Lanarkshire, Lanark (general region)\n",
      "Europe, United Kingdom, Scotland, Stirling (unitary authority)\n",
      "Europe, United Kingdom, Scotland, Stirling, Cambuskenneth Abbey (ruins)\n",
      "Europe, United Kingdom, Scotland, Stirling, Doune Castle (ruins)\n",
      "Europe, United Kingdom, Scotland, Stirling, Menteith, Lake of (lake)\n",
      "Europe, United Kingdom, Scotland, Tay (river)\n",
      "Europe, United Kingdom, Scotland, West Dunbartonshire, Dunbarton (general region)\n",
      "Europe, United Kingdom, Scotland, West Lothian (unitary authority)\n"
     ]
    }
   ],
   "source": [
    "# get unique values\n",
    "geographic_names = pd.unique(df['geographic_names'].str.split(' -- ', expand=True).stack()).tolist()\n",
    "print(\"Total unique geographic_names:\" + str(len(geographic_names)))\n",
    "for s in sorted(geographic_names, key=str.lower):\n",
    "    print(s)"
   ]
  },
  {
   "cell_type": "markdown",
   "id": "25e7dbbc-bed6-4b50-9621-146d395e8881",
   "metadata": {},
   "source": [
    "### Let's enrich the data with Wikidata\n",
    "\n",
    "#### Now that we have the geographic names depicted in the pictures we can create a visualisation map.\n",
    "\n",
    "We can use Wikidata as an example so we do not have to install any software. The first thing that we have to do is identifyting the items in [Wikidata](https://www.wikidata.org/). Then, we will create a SPARQL query that will return a map as a result. I only have used a random selection of the items provided by the previous list.\n",
    "\n",
    "- Yorkshire = https://www.wikidata.org/wiki/Q163 (wd:Q163)\n",
    "- Aberdeen = https://www.wikidata.org/wiki/Q36405 (wd:Q36405)\n",
    "- Aberdeenshire = https://www.wikidata.org/wiki/Q189912 (wd:Q189912)\n",
    "- Aberdeenshire, Monymusk =  https://www.wikidata.org/wiki/Q68816212 (wd:Q68816212)\n",
    "- Kincardine = https://www.wikidata.org/wiki/Q1011221 (wd:Q1011221)\n",
    "- Angus = https://www.wikidata.org/wiki/Q202177 (wd:Q202177)\n",
    "- River Tay = https://www.wikidata.org/wiki/Q19719 (wd:Q19719)"
   ]
  },
  {
   "cell_type": "markdown",
   "id": "31ef087c-48c1-41b0-8936-66d01eb82086",
   "metadata": {},
   "source": [
    "Using the following SPARQL query, we can create a visualisation map:\n",
    "\n",
    "```#defaultView:Map\n",
    "SELECT ?place ?placeLabel (SAMPLE(?image) as ?img) (SAMPLE(?coord) as ?c)\n",
    "WHERE {   \n",
    "  VALUES ?place { wd:Q163 wd:Q36405 wd:Q189912 wd:Q68816212 wd:Q1011221 wd:Q202177 wd:Q19719 }.\n",
    "\n",
    "       ?place wdt:P625 ?coord.\n",
    "       OPTIONAL {?place wdt:P18 ?image}.\n",
    "          \n",
    "    SERVICE wikibase:label { bd:serviceParam wikibase:language \"en\" }\n",
    "} GROUP BY ?place ?placeLabel ?img\n",
    "```\n",
    "\n",
    "Check the result in this [link](https://w.wiki/9Fde).\n"
   ]
  }
 ],
 "metadata": {
  "kernelspec": {
   "display_name": "Python 3",
   "language": "python",
   "name": "python3"
  },
  "language_info": {
   "codemirror_mode": {
    "name": "ipython",
    "version": 3
   },
   "file_extension": ".py",
   "mimetype": "text/x-python",
   "name": "python",
   "nbconvert_exporter": "python",
   "pygments_lexer": "ipython3",
   "version": "3.9.18"
  }
 },
 "nbformat": 4,
 "nbformat_minor": 5
}
