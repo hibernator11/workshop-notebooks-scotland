{
 "cells": [
  {
   "cell_type": "markdown",
   "id": "c4f90fb4-f086-4313-98a5-3e4cccb7a657",
   "metadata": {},
   "source": [
    "## This is an example of notebook"
   ]
  },
  {
   "cell_type": "code",
   "execution_count": 1,
   "id": "ed7ed98a-c2c4-48dd-9f76-e55c471f5db6",
   "metadata": {},
   "outputs": [
    {
     "name": "stdout",
     "output_type": "stream",
     "text": [
      "Hello world\n"
     ]
    }
   ],
   "source": [
    "print(\"Hello world\")"
   ]
  },
  {
   "cell_type": "markdown",
   "id": "b87ae9d7-2405-45cc-aeb1-b6058eba95d9",
   "metadata": {},
   "source": [
    "## Let's now print my name"
   ]
  },
  {
   "cell_type": "code",
   "execution_count": 2,
   "id": "1897ae50-a78e-4567-b365-2de3c40246bf",
   "metadata": {},
   "outputs": [
    {
     "name": "stdout",
     "output_type": "stream",
     "text": [
      "My name is Milena\n"
     ]
    }
   ],
   "source": [
    "print(\"My name is XXX\")"
   ]
  },
  {
   "cell_type": "markdown",
   "id": "5e463724-e2ae-4892-aebc-457c2ca676b2",
   "metadata": {},
   "source": [
    "### Please, change the previous code and add your name. Then click on the 'run' button to see the result"
   ]
  }
 ],
 "metadata": {
  "kernelspec": {
   "display_name": "Python [conda env:base] *",
   "language": "python",
   "name": "conda-base-py"
  },
  "language_info": {
   "codemirror_mode": {
    "name": "ipython",
    "version": 3
   },
   "file_extension": ".py",
   "mimetype": "text/x-python",
   "name": "python",
   "nbconvert_exporter": "python",
   "pygments_lexer": "ipython3",
   "version": "3.11.11"
  }
 },
 "nbformat": 4,
 "nbformat_minor": 5
}
