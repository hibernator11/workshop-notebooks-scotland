{
 "cells": [
  {
   "cell_type": "markdown",
   "id": "585a839f",
   "metadata": {},
   "source": [
    "# Data extraction from MARC-XML files\n",
    "\n",
    "Created in February 2024 for the University of Strathclyde by Gustavo Candela "
   ]
  },
  {
   "cell_type": "markdown",
   "id": "4cceae1f-71fb-4741-aa3a-081d9156c877",
   "metadata": {},
   "source": [
    "### About the Hutton Drawings Dataset\n",
    "\n",
    "This dataset represents the descriptive metadata from the [Hutton Drawings](https://data.nls.uk/data/metadata-collections/hutton-drawings/).\n",
    "This dataset represents the complete descriptive metadata for the Hutton drawings, a digitised collection of drawings, maps, plans and prints relating mainly to Scottish churches and other ecclesiastical buildings, castles or other dwellings.\n",
    "The original drawings date from 1781-1792 and 1811-1820 and are arranged by county. Some of the drawings are by George Henry Hutton, a professional soldier and amateur antiquary, who compiled the collection. \n",
    "\n",
    "- Data format: metadata available as MARCXML and Dublin Core\n",
    "- Data source: https://data.nls.uk/data/metadata-collections/hutton-drawings/"
   ]
  },
  {
   "cell_type": "markdown",
   "id": "a6332690",
   "metadata": {},
   "source": [
    "### Table of contents\n",
    "\n",
    "- [Preparation](#Preparation)\n",
    "- [Data Extraction](#Extraction-of-the-data-to-a-CSV)"
   ]
  },
  {
   "cell_type": "markdown",
   "id": "6e42ca38",
   "metadata": {},
   "source": [
    "### Preparation\n",
    "\n",
    "Import the libraries required to extract the information from MARCXML to a CSV file:"
   ]
  },
  {
   "cell_type": "code",
   "execution_count": 18,
   "id": "d07b0bb7",
   "metadata": {},
   "outputs": [],
   "source": [
    "import pymarc, re, csv\n",
    "from pymarc import parse_xml_to_array"
   ]
  },
  {
   "cell_type": "markdown",
   "id": "25393975",
   "metadata": {},
   "source": [
    "## Extraction of the data to a CSV\n",
    "\n",
    "To extract the metadata we'll mainly use [Pymarc](https://pymarc.readthedocs.io/en/latest/), a Python 3 library for working with bibliographic data encoded in MARC21. The metadata will be stored in a CSV (comma-separated values) text file. \n",
    "\n",
    "*Note: If you'd like to reuse this code for other MARC datasets you may have to refine the code to retrieve additional and/or different MARC fields according to how the metadata is defined.\n",
    "\n"
   ]
  },
  {
   "cell_type": "code",
   "execution_count": 19,
   "id": "b6505658-bfe0-4207-8d62-1a0b98ad06ff",
   "metadata": {},
   "outputs": [],
   "source": [
    "input_MARC_file = 'input/Hutton-Drawings/Hutton-Drawings-Dataset-MARC.xml'\n",
    "output_CSV_file = 'output/Hutton-Drawings.csv'"
   ]
  },
  {
   "cell_type": "code",
   "execution_count": 20,
   "id": "a8307d8d",
   "metadata": {
    "scrolled": true
   },
   "outputs": [],
   "source": [
    "with open(output_CSV_file, 'w') as csv_file:\n",
    "    csv_output = csv.writer(csv_file, delimiter = ',', quotechar = '\"', quoting = csv.QUOTE_MINIMAL)\n",
    "    csv_output.writerow(['title', 'author', 'date', 'subjects', 'geographic_names'])\n",
    "\n",
    "    with open(input_MARC_file) as marc_file:\n",
    "        records = parse_xml_to_array(marc_file)\n",
    "    \n",
    "        for record in records:\n",
    "    \n",
    "            title = author = date = subjects = geographic_names = ''\n",
    "    \n",
    "            # title\n",
    "            if record['245'] is not None:\n",
    "                title = record['245']['a']\n",
    "                title = title.strip()\n",
    "    \n",
    "            # date\n",
    "            for f in record.get_fields('264'):\n",
    "                dates = f.get_subfields('c')\n",
    "                if len(dates):\n",
    "                    date = dates[0]\n",
    "\n",
    "                    # remove '.' at the end\n",
    "                    if date.endswith('.'): \n",
    "                        date = date[:-1]\n",
    "\n",
    "             # subjects \n",
    "            if record['650'] is not None:\n",
    "                subjects = ''\n",
    "                for f in record.get_fields('650'):\n",
    "                    if f.indicator2 == '7':\n",
    "                        subjects += f.get_subfields('a')[0] + ' -- '\n",
    "    \n",
    "                # remove -- at the end\n",
    "                subjects = re.sub(' -- $', '', subjects)\n",
    "    \n",
    "            # subjects geographic names\n",
    "            if record['651'] is not None:\n",
    "                geographic_names = ''\n",
    "                for f in record.get_fields('651'):\n",
    "                    if f.indicator2 == '7' and f.get_subfields('e')[0]=='Place depicted':\n",
    "                        geographic_names += f.get_subfields('a')[0] + ' -- '\n",
    "    \n",
    "                # remove -- at the end\n",
    "                geographic_names = re.sub(' -- $', '', geographic_names)\n",
    "                \n",
    "            # author\n",
    "            if record['700'] is not None:\n",
    "                author = ''\n",
    "                for f in record.get_fields('700'):\n",
    "                    author += f.get_subfields('a')[0].strip() + \" -- \"\n",
    "                    author = author.replace(\"\\n\", \" \")\n",
    "               \n",
    "            # remove -- at the end\n",
    "            author = re.sub(' -- $', '', author)\n",
    "                \n",
    "            csv_output.writerow([title,author,date,subjects,geographic_names])"
   ]
  },
  {
   "cell_type": "markdown",
   "id": "6dbd84f0-3ffb-4c16-9990-471fd940a175",
   "metadata": {},
   "source": [
    "### Now go to the output folder and check the CSV file!"
   ]
  }
 ],
 "metadata": {
  "kernelspec": {
   "display_name": "Python 3",
   "language": "python",
   "name": "python3"
  },
  "language_info": {
   "codemirror_mode": {
    "name": "ipython",
    "version": 3
   },
   "file_extension": ".py",
   "mimetype": "text/x-python",
   "name": "python",
   "nbconvert_exporter": "python",
   "pygments_lexer": "ipython3",
   "version": "3.9.18"
  }
 },
 "nbformat": 4,
 "nbformat_minor": 5
}
